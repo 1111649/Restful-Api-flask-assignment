{
  "nbformat": 4,
  "nbformat_minor": 0,
  "metadata": {
    "colab": {
      "provenance": []
    },
    "kernelspec": {
      "name": "python3",
      "display_name": "Python 3"
    },
    "language_info": {
      "name": "python"
    }
  },
  "cells": [
    {
      "cell_type": "markdown",
      "source": [
        "# **Restful Api Assignment**"
      ],
      "metadata": {
        "id": "ZZw3dnK1SAaD"
      }
    },
    {
      "cell_type": "markdown",
      "source": [
        "# Theory Based Question"
      ],
      "metadata": {
        "id": "Ijh8UZr4QCpj"
      }
    },
    {
      "cell_type": "markdown",
      "source": [
        "1.  What is a RESTful API ?\n",
        " - A RESTful API (Representational State Transfer API) is a type of web API (Application Programming Interface) that follows the principles of REST, an architectural style for designing networked applications."
      ],
      "metadata": {
        "id": "z1cTcsaWQHuN"
      }
    },
    {
      "cell_type": "markdown",
      "source": [
        "2. Explain the concept of API specification ?\n",
        " - An API Specification is a detailed, structured description of how an API behaves — it defines what the API does, how to use it, and what to expect in return."
      ],
      "metadata": {
        "id": "MoVih6vrQiRM"
      }
    },
    {
      "cell_type": "markdown",
      "source": [
        "3. What is Flask, and why is it popular for building APIs ?\n",
        " - Flask is a lightweight and flexible Python web framework used to build web applications and APIs. It is known for being simple, easy to learn, and highly customizable.\n",
        "    - Simplicity & Minimalism\n",
        "    - Flexible and Customizable\n",
        "    - Built-in Development Server & Debugger\n",
        "    - Great for RESTful APIs\n",
        "    - Ideal for Small to Medium Projects"
      ],
      "metadata": {
        "id": "EIs8YKAfQ1LZ"
      }
    },
    {
      "cell_type": "markdown",
      "source": [
        "4. What is routing in Flask ?\n",
        " - Routing in Flask means mapping URLs (web addresses) to specific Python functions. When a user visits a certain URL, Flask runs the function linked to that route and returns the response (like data or HTML)."
      ],
      "metadata": {
        "id": "otqCr__zRZSg"
      }
    },
    {
      "cell_type": "markdown",
      "source": [
        "5. How do you create a simple Flask application ?\n",
        " - 1. Install Flask (if not already)\n",
        " - 2. Create a Python File (e.g., app.py)\n",
        " - 3. Run the Application\n",
        " - 4. Adding More Routes (Optional)"
      ],
      "metadata": {
        "id": "iHnamr7hRm-X"
      }
    },
    {
      "cell_type": "markdown",
      "source": [
        "6. What are HTTP methods used in RESTful APIs ?\n",
        " - In a RESTful API, HTTP methods define the type of operation you want to perform on a resource (like data stored on the server). These methods align with CRUD operations: Create, Read, Update, Delete."
      ],
      "metadata": {
        "id": "FH8s8Z-5SFuE"
      }
    },
    {
      "cell_type": "markdown",
      "source": [
        "7. What is the purpose of the @app.route() decorator in Flask ?\n",
        " - The @app.route() decorator in Flask is used to bind a URL path to a specific Python function — this function is called a view function."
      ],
      "metadata": {
        "id": "x1B-I2TpSYU-"
      }
    },
    {
      "cell_type": "markdown",
      "source": [
        "8. What is the difference between GET and POST HTTP methods ?\n",
        " - GET is used to fetch data from the server, with data sent in the URL. It's visible, less secure, and doesn't change server data.\n",
        "\n",
        " - POST is used to send data to the server (e.g., for creating or updating), with data in the request body. It's more secure and can modify server data."
      ],
      "metadata": {
        "id": "lo6iPEjNSmtQ"
      }
    },
    {
      "cell_type": "markdown",
      "source": [
        "9. How do you handle errors in Flask APIs ?\n",
        " - Using @app.errorhandler() Decorator"
      ],
      "metadata": {
        "id": "eUgj_VkmTJcP"
      }
    },
    {
      "cell_type": "markdown",
      "source": [
        "10. How do you connect Flask to a SQL database ?\n",
        " - Using @app.errorhandler() Decorator"
      ],
      "metadata": {
        "id": "tBgjUamYTYdo"
      }
    },
    {
      "cell_type": "markdown",
      "source": [
        "11. What is the role of Flask-SQLAlchemy ?\n",
        " - Flask-SQLAlchemy is an extension for Flask that adds SQLAlchemy support to your application — making it easy to connect, manage, and interact with relational databases like SQLite, MySQL, or PostgreSQL."
      ],
      "metadata": {
        "id": "1wAugNzaTn1L"
      }
    },
    {
      "cell_type": "markdown",
      "source": [
        "12. What are Flask blueprints, and how are they useful ?\n",
        " - Flask Blueprints are a way to organize your Flask application into smaller, reusable components. They let you group related routes, templates, and static files — making large apps easier to manage and maintain."
      ],
      "metadata": {
        "id": "jAW1NctVT298"
      }
    },
    {
      "cell_type": "markdown",
      "source": [
        "13. What is the purpose of Flask's request object ?\n",
        " - The request object in Flask is used to access data sent by the client (such as a browser, mobile app, or another API) when it makes an HTTP request to your Flask application."
      ],
      "metadata": {
        "id": "XP1i7xqaUHHJ"
      }
    },
    {
      "cell_type": "markdown",
      "source": [
        "14. How do you create a RESTful API endpoint using Flask ?\n",
        " - Creating a RESTful API in Flask involves setting up routes that handle different HTTP methods like GET, POST, PUT, and DELETE."
      ],
      "metadata": {
        "id": "e2cNWDESUTE0"
      }
    },
    {
      "cell_type": "markdown",
      "source": [
        "15. What is the purpose of Flask's jsonify() function ?\n",
        " - The jsonify() function in Flask is used to convert Python data (like dictionaries and lists) into a valid JSON response that can be sent back to the client (such as a browser, mobile app, or frontend)."
      ],
      "metadata": {
        "id": "ayq4eMEMUiMs"
      }
    },
    {
      "cell_type": "markdown",
      "source": [
        "16. Explain Flask’s url_for() function\n",
        " - The url_for() function in Flask is used to dynamically build URLs for a given view (route) function by using its function name, instead of hardcoding the URL paths."
      ],
      "metadata": {
        "id": "PCtY0Al5U6_q"
      }
    },
    {
      "cell_type": "markdown",
      "source": [
        "17. How does Flask handle static files (CSS, JavaScript, etc.) ?\n",
        " - Flask automatically serves static files (like CSS, JavaScript, images) from a special folder called static/ located in your project directory."
      ],
      "metadata": {
        "id": "d3Dnl_8VOQ-L"
      }
    },
    {
      "cell_type": "markdown",
      "source": [
        "18. What is an API specification, and how does it help in building a Flask API ?\n",
        " - An API specification is a detailed blueprint that describes how an API works — what endpoints exist, what kind of data can be sent or received, and what responses to expect. It defines how clients and servers should communicate, often using a standard format like OpenAPI (Swagger)."
      ],
      "metadata": {
        "id": "ke-PSNX2OjEV"
      }
    },
    {
      "cell_type": "markdown",
      "source": [
        "19. What are HTTP status codes, and why are they important in a Flask API ?\n",
        " - HTTP status codes are 3-digit numbers returned by the server in response to a client’s request. They tell the client (like a browser or frontend app) whether the request was successful, failed, or needs further action."
      ],
      "metadata": {
        "id": "poLtqmRVPioL"
      }
    },
    {
      "cell_type": "markdown",
      "source": [
        "20. How do you handle POST requests in Flask ?\n",
        " - In Flask, POST requests are handled by creating a route that accepts the POST method. You typically use POST to submit data (like a form or JSON) to the server — such as creating a new user or posting a comment."
      ],
      "metadata": {
        "id": "WxURqC4gP13i"
      }
    },
    {
      "cell_type": "markdown",
      "source": [
        "21. How would you secure a Flask API ?\n",
        " - 1. Use HTTPS (SSL/TLS)\n",
        " - 2. Authentication & Authorization\n",
        " - 3. Input Validation & Sanitization\n",
        " - 4. Rate Limiting"
      ],
      "metadata": {
        "id": "i0bn1WOVP_XG"
      }
    },
    {
      "cell_type": "markdown",
      "source": [
        "22. What is the significance of the Flask-RESTful extension ?\n",
        " - Flask-RESTful is an extension for Flask that makes it easier and cleaner to build RESTful APIs. It adds tools to organize your code better and handle resources, HTTP methods, and routing in a more structured way."
      ],
      "metadata": {
        "id": "PmUGKy6kQ6Yy"
      }
    },
    {
      "cell_type": "markdown",
      "source": [
        "23. What is the role of Flask’s session object?\n",
        " - The session object in Flask is used to store data across requests for a specific user — like a small, secure storage space that remembers information between different pages or API calls."
      ],
      "metadata": {
        "id": "9qs0B6QhRK4r"
      }
    },
    {
      "cell_type": "markdown",
      "source": [
        "# Practical Based Question"
      ],
      "metadata": {
        "id": "4SxXIgObRY0m"
      }
    },
    {
      "cell_type": "code",
      "source": [
        "# 1. How do you create a basic Flask application\n",
        "pip install flask\n",
        "\n",
        "from flask import Flask\n",
        "\n",
        "app = Flask(__name__)\n",
        "\n",
        "@app.route('/')\n",
        "def home():\n",
        "    return \"Hello, Flask!\"\n",
        "\n",
        "python app.py\n"
      ],
      "metadata": {
        "id": "HjNg6duKRjD9"
      },
      "execution_count": null,
      "outputs": []
    },
    {
      "cell_type": "code",
      "source": [
        "# 2. How do you serve static files like images or CSS in Flask ?\n",
        "# create a 'static' folder and add a file\n",
        "import os\n",
        "\n",
        "os.makedirs('static', exist_ok=True)\n",
        "\n",
        "# Create a sample CSS file\n",
        "with open('static/style.css', 'w') as f:\n",
        "    f.write('body {background-color: lightblue;}')\n",
        "\n",
        "# Flask app to serve static files\n",
        "from flask import Flask, url_for\n",
        "\n",
        "app = Flask(__name__)\n",
        "\n",
        "@app.route('/')\n",
        "def home():\n",
        "    return '''\n",
        "    <html>\n",
        "    <head>\n",
        "        <link rel=\"stylesheet\" href=\"{}\">\n",
        "    </head>\n",
        "    <body>\n",
        "        <h1>Hello, styled Flask!</h1>\n",
        "    </body>\n",
        "    </html>\n",
        "    '''.format(url_for('static', filename='style.css'))\n",
        "\n",
        "if __name__ == '__main__':\n",
        "    app.run()"
      ],
      "metadata": {
        "id": "E0jX0bZrSB3F"
      },
      "execution_count": null,
      "outputs": []
    },
    {
      "cell_type": "code",
      "source": [
        "# 3.How do you define different routes with different HTTP methods in Flask ?\n",
        "from flask import Flask, request, jsonify\n",
        "\n",
        "app = Flask(__name__)\n",
        "\n",
        "@app.route('/item', methods=['GET'])\n",
        "def get_item():\n",
        "    return jsonify({\"message\": \"This is a GET request\"})\n",
        "\n",
        "@app.route('/item', methods=['POST'])\n",
        "def post_item():\n",
        "    data = request.get_json()\n",
        "    return jsonify({\"message\": \"This is a POST request\", \"data\": data}), 201\n",
        "\n",
        "if __name__ == '__main__':\n",
        "    app.run()\n",
        "\n",
        "\n",
        "!pip install flask-ngrok\n",
        "\n",
        "from flask_ngrok import run_with_ngrok\n",
        "\n",
        "app = Flask(__name__)\n",
        "run_with_ngrok(app)  # Starts ngrok when app runs\n",
        "\n",
        "@app.route('/item', methods=['GET'])\n",
        "def get_item():\n",
        "    return jsonify({\"message\": \"This is a GET request\"})\n",
        "\n",
        "@app.route('/item', methods=['POST'])\n",
        "def post_item():\n",
        "    data = request.get_json()\n",
        "    return jsonify({\"message\": \"This is a POST request\", \"data\": data}), 201\n",
        "\n",
        "app.run()\n"
      ],
      "metadata": {
        "id": "txDgdqleU75L"
      },
      "execution_count": null,
      "outputs": []
    },
    {
      "cell_type": "code",
      "source": [
        "# 5. How can you generate URLs for routes in Flask using url_for?\n",
        "\n",
        "from flask import Flask, url_for\n",
        "\n",
        "app = Flask(__name__)\n",
        "\n",
        "@app.route('/')\n",
        "def home():\n",
        "    return 'Home Page'\n",
        "\n",
        "@app.route('/user/<username>')\n",
        "def profile(username):\n",
        "    return f'Profile: {username}'\n",
        "\n",
        "@app.route('/show-url')\n",
        "def show_url():\n",
        "    user_url = url_for('profile', username='john')\n",
        "    home_url = url_for('home')\n",
        "    return f'User URL: {user_url}, Home URL: {home_url}'\n",
        "\n",
        "if __name__ == '__main__':\n",
        "    app.run(debug=True)"
      ],
      "metadata": {
        "id": "ltrIWL7PVJiB"
      },
      "execution_count": null,
      "outputs": []
    },
    {
      "cell_type": "code",
      "source": [
        "# 6.  How do you handle forms in Flask ?\n",
        "from flask import Flask, request, render_template_string\n",
        "\n",
        "app = Flask(__name__)\n",
        "\n",
        "form_html = '''\n",
        "<form method=\"POST\" action=\"/submit\">\n",
        "  Name: <input type=\"text\" name=\"name\">\n",
        "  <input type=\"submit\" value=\"Submit\">\n",
        "</form>\n",
        "'''\n",
        "\n",
        "@app.route('/')\n",
        "def index():\n",
        "    return form_html\n",
        "\n",
        "@app.route('/submit', methods=['POST'])\n",
        "def submit():\n",
        "    name = request.form.get('name')\n",
        "    return f'Hello, {name}!'\n",
        "\n",
        "if __name__ == '__main__':\n",
        "    app.run(debug=True)"
      ],
      "metadata": {
        "id": "hrUa7E6vVaB1"
      },
      "execution_count": null,
      "outputs": []
    },
    {
      "cell_type": "code",
      "source": [
        "# 7. How can you validate form data in Flask ?\n",
        "from flask import Flask, request, render_template_string\n",
        "\n",
        "app = Flask(__name__)\n",
        "\n",
        "form_html = '''\n",
        "<form method=\"POST\" action=\"/submit\">\n",
        "  Email: <input type=\"text\" name=\"email\">\n",
        "  <input type=\"submit\" value=\"Submit\">\n",
        "</form>\n",
        "{% if error %}\n",
        "  <p style=\"color:red;\">{{ error }}</p>\n",
        "{% endif %}\n",
        "'''\n",
        "\n",
        "@app.route('/', methods=['GET', 'POST'])\n",
        "def index():\n",
        "    error = None\n",
        "    if request.method == 'POST':\n",
        "        email = request.form.get('email')\n",
        "        if not email or '@' not in email:\n",
        "            error = \"Invalid email address!\"\n",
        "        else:\n",
        "            return f\"Email {email} is valid!\"\n",
        "    return render_template_string(form_html, error=error)\n",
        "\n",
        "if __name__ == '__main__':\n",
        "    app.run(debug=True)"
      ],
      "metadata": {
        "id": "aw5PZ5umViYB"
      },
      "execution_count": null,
      "outputs": []
    },
    {
      "cell_type": "code",
      "source": [
        "# 8. How do you manage sessions in Flask ?\n",
        "from flask import Flask, session, redirect, url_for, request\n",
        "\n",
        "app = Flask(__name__)\n",
        "app.secret_key = 'your_secret_key'  # Needed to secure the session\n",
        "\n",
        "@app.route('/')\n",
        "def index():\n",
        "    if 'username' in session:\n",
        "        return f'Logged in as {session[\"username\"]}'\n",
        "    return 'You are not logged in'\n",
        "\n",
        "@app.route('/login', methods=['POST'])\n",
        "def login():\n",
        "    username = request.form.get('username')\n",
        "    if username:\n",
        "        session['username'] = username\n",
        "        return redirect(url_for('index'))\n",
        "    return 'Please provide a username', 400\n",
        "\n",
        "@app.route('/logout')\n",
        "def logout():\n",
        "    session.pop('username', None)\n",
        "    return redirect(url_for('index'))\n",
        "\n",
        "if __name__ == '__main__':\n",
        "    app.run(debug=True)"
      ],
      "metadata": {
        "id": "_HHS2oRAVv_e"
      },
      "execution_count": null,
      "outputs": []
    },
    {
      "cell_type": "code",
      "source": [
        "# 9. How do you redirect to a different route in Flask ?\n",
        "from flask import Flask, redirect, url_for\n",
        "\n",
        "app = Flask(__name__)\n",
        "\n",
        "@app.route('/')\n",
        "def home():\n",
        "    return 'Home Page'\n",
        "\n",
        "@app.route('/go-to-home')\n",
        "def go_to_home():\n",
        "    return redirect(url_for('home'))\n",
        "\n",
        "if __name__ == '__main__':\n",
        "    app.run(debug=True)"
      ],
      "metadata": {
        "id": "31IaLD50V73s"
      },
      "execution_count": null,
      "outputs": []
    },
    {
      "cell_type": "code",
      "source": [
        "# 10. How do you handle errors in Flask (e.g., 404)?\n",
        "from flask import Flask, jsonify\n",
        "\n",
        "app = Flask(__name__)\n",
        "\n",
        "@app.errorhandler(404)\n",
        "def not_found_error(error):\n",
        "    return jsonify({'error': 'Not found'}), 404\n",
        "\n",
        "if __name__ == '__main__':\n",
        "    app"
      ],
      "metadata": {
        "id": "O7j_q0v2WH9E"
      },
      "execution_count": null,
      "outputs": []
    },
    {
      "cell_type": "code",
      "source": [
        "# 11. How do you structure a Flask app using Blueprints ?\n",
        "\n",
        "\n",
        "# Directory structure\n",
        "# /content/\n",
        "# ├── app.py\n",
        "# └── mymodule/\n",
        "#     ├── __init__.py\n",
        "#     └── routes.py\n",
        "\n",
        "# Step 1: Create the folder and files\n",
        "\n",
        "import os\n",
        "\n",
        "os.makedirs('mymodule', exist_ok=True)\n",
        "\n",
        "# Step 2: Create mymodule/routes.py\n",
        "\n",
        "with open('mymodule/routes.py', 'w') as f:\n",
        "    f.write('''\n",
        "from flask import Blueprint\n",
        "\n",
        "bp = Blueprint('mymodule', __name__)\n",
        "\n",
        "@bp.route('/hello')\n",
        "def hello():\n",
        "    return 'Hello from Blueprint!'\n",
        "''')\n",
        "\n",
        "# Step 3: Create mymodule/__init__.py\n",
        "\n",
        "with open('mymodule/__init__.py', 'w') as f:\n",
        "    f.write('from .routes import bp')\n",
        "\n",
        "# Step 4: Create the main Flask app (app.py)\n",
        "\n",
        "with open('app.py', 'w') as f:\n",
        "    f.write('''\n",
        "from flask import Flask\n",
        "from mymodule import bp\n",
        "\n",
        "app = Flask(__name__)\n",
        "app.register_blueprint(bp, url_prefix='/mymodule')\n",
        "\n",
        "if __name__ == '__main__':\n",
        "    app.run()\n",
        "''')\n",
        "\n",
        "# Step 5: Run the app with Flask-Ngrok\n",
        "\n",
        "!pip install flask-ngrok\n",
        "\n",
        "from flask_ngrok import run_with_ngrok\n",
        "from flask import Flask\n",
        "from mymodule import bp\n",
        "\n",
        "app = Flask(__name__)\n",
        "app.register_blueprint(bp, url_prefix='/mymodule')\n",
        "\n",
        "run_with_ngrok(app)\n",
        "app.run()\n"
      ],
      "metadata": {
        "id": "gf8dFH5_WUQR"
      },
      "execution_count": null,
      "outputs": []
    },
    {
      "cell_type": "code",
      "source": [
        "# 12.  How do you define a custom Jinja filter in Flask ?\n",
        "\n",
        "\n",
        "from flask import Flask, render_template_string\n",
        "\n",
        "app = Flask(__name__)\n",
        "\n",
        "# Define custom Jinja filter\n",
        "def reverse_string(s):\n",
        "    return s[::-1]\n",
        "\n",
        "app.jinja_env.filters['reverse'] = reverse_string\n",
        "\n",
        "@app.route('/')\n",
        "def index():\n",
        "    return render_template_string('<p>{{ \"Flask\" | reverse }}</p>')\n",
        "\n",
        "if __name__ == '__main__':\n",
        "    app.run(debug=True)"
      ],
      "metadata": {
        "id": "6-1BOluNWfwG"
      },
      "execution_count": null,
      "outputs": []
    },
    {
      "cell_type": "code",
      "source": [
        "# 13. How can you redirect with query parameters in Flask?\n",
        "from flask import Flask, redirect, url_for, request\n",
        "\n",
        "app = Flask(__name__)\n",
        "\n",
        "@app.route('/')\n",
        "def index():\n",
        "    return redirect(url_for('greet', name='Alice', age=25))\n",
        "\n",
        "@app.route('/greet')\n",
        "def greet():\n",
        "    name = request.args.get('name')\n",
        "    age = request.args.get('age')\n",
        "    return f'Hello {name}, age {age}!'\n",
        "\n",
        "if __name__ == '__main__':\n",
        "    app.run(debug=True)"
      ],
      "metadata": {
        "id": "KuzMZUPFWptr"
      },
      "execution_count": null,
      "outputs": []
    },
    {
      "cell_type": "code",
      "source": [
        "# 14. How do you return JSON responses in Flask?\n",
        "\n",
        "\n",
        "from flask import Flask, jsonify\n",
        "\n",
        "app = Flask(__name__)\n",
        "\n",
        "@app.route('/data')\n",
        "def data():\n",
        "    return jsonify({\"name\": \"Bhaskar\", \"age\": 25, \"status\": \"active\"})\n",
        "\n",
        "if __name__ == '__main__':\n",
        "    app.run(debug=True)"
      ],
      "metadata": {
        "id": "higuTxJXWydQ"
      },
      "execution_count": null,
      "outputs": []
    },
    {
      "cell_type": "code",
      "source": [
        "# 15. How do you capture URL parameters in Flask?\n",
        "\n",
        "\n",
        "from flask import Flask\n",
        "\n",
        "app = Flask(__name__)\n",
        "\n",
        "@app.route('/user/<username>')\n",
        "def show_user(username):\n",
        "    return f'Hello, {username}!'\n",
        "\n",
        "@app.route('/post/<int:post_id>')\n",
        "def show_post(post_id):\n",
        "    return f'Post ID: {post_id}'\n",
        "\n",
        "if __name__ == '__main__':\n",
        "    app.run(debug=True)"
      ],
      "metadata": {
        "id": "w7et1XL7W8Oi"
      },
      "execution_count": null,
      "outputs": []
    }
  ]
}